{
 "cells": [
  {
   "cell_type": "code",
   "execution_count": 1,
   "id": "1814252d-7a62-40d2-a472-b4aad63e999c",
   "metadata": {},
   "outputs": [],
   "source": [
    "import pandas as pd\n",
    "import numpy as np"
   ]
  },
  {
   "cell_type": "code",
   "execution_count": 3,
   "id": "0a65ec97-2727-4074-ac5c-ac404f873e93",
   "metadata": {},
   "outputs": [],
   "source": [
    "df = pd.read_csv(r\"C:\\Users\\sugirdha\\Downloads\\KNN.csv\")"
   ]
  },
  {
   "cell_type": "code",
   "execution_count": 4,
   "id": "b79606d5-c0b8-4cee-9129-cb85f5c805cc",
   "metadata": {},
   "outputs": [
    {
     "data": {
      "text/plain": [
       "Index(['BRIGHTNESS', 'SATURATION', 'CLASS'], dtype='object')"
      ]
     },
     "execution_count": 4,
     "metadata": {},
     "output_type": "execute_result"
    }
   ],
   "source": [
    "df.columns"
   ]
  },
  {
   "cell_type": "code",
   "execution_count": 5,
   "id": "44b06b33-e20c-4c3a-811d-054bc0572ca3",
   "metadata": {},
   "outputs": [],
   "source": [
    "x1 = df['BRIGHTNESS']\n",
    "x2 = df['SATURATION']\n",
    "y = df['CLASS']"
   ]
  },
  {
   "cell_type": "code",
   "execution_count": 6,
   "id": "ecdaab3c-d8cb-41d4-9eb2-437824afc2e0",
   "metadata": {},
   "outputs": [],
   "source": [
    "dist = [0]*len(x1)\n",
    "def knn(X1,X2,k):\n",
    "    min_dist = [0]*k\n",
    "    yhat = [0]*k\n",
    "    for i in range(len(x1)):\n",
    "        p1 = np.array([x1[i],x2[i]])\n",
    "        p2 = np.array([X1,X2])\n",
    "        dist[i] = np.linalg.norm(p1-p2)\n",
    "    dist1 = dist.copy()\n",
    "    for i in range(k):\n",
    "        min1 = min(dist)\n",
    "        j=dist1.index(min1)\n",
    "        min_dist[i] = (x1[j],x2[j])\n",
    "        yhat[i]=y[j]\n",
    "        dist.pop(dist.index(min1))\n",
    "    return min_dist,max(yhat)"
   ]
  },
  {
   "cell_type": "code",
   "execution_count": 7,
   "id": "b5e738bf-d810-4765-b6bc-3bd0bc3df325",
   "metadata": {},
   "outputs": [
    {
     "name": "stdout",
     "output_type": "stream",
     "text": [
      "NAME: R U SUGIRDHA\n",
      "CB.SC.I5DAS21062\n",
      "([(10, 25), (40, 20), (50, 50), (25, 80), (60, 10)], 'Red')\n"
     ]
    }
   ],
   "source": [
    "print(\"NAME: R U SUGIRDHA\")\n",
    "print(\"CB.SC.I5DAS21062\")\n",
    "print(knn(22,35,5))"
   ]
  },
  {
   "cell_type": "code",
   "execution_count": null,
   "id": "8e61deae-ef3f-4f12-963b-4e947bfdb01e",
   "metadata": {},
   "outputs": [],
   "source": []
  }
 ],
 "metadata": {
  "kernelspec": {
   "display_name": "Python 3 (ipykernel)",
   "language": "python",
   "name": "python3"
  },
  "language_info": {
   "codemirror_mode": {
    "name": "ipython",
    "version": 3
   },
   "file_extension": ".py",
   "mimetype": "text/x-python",
   "name": "python",
   "nbconvert_exporter": "python",
   "pygments_lexer": "ipython3",
   "version": "3.12.2"
  }
 },
 "nbformat": 4,
 "nbformat_minor": 5
}
