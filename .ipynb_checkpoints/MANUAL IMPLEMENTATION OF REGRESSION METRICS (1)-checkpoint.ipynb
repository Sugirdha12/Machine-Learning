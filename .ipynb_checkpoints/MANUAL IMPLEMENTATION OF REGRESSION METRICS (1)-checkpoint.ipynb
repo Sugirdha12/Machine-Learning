{
 "cells": [
  {
   "cell_type": "code",
   "execution_count": 1,
   "id": "3b442ac1",
   "metadata": {},
   "outputs": [
    {
     "name": "stdout",
     "output_type": "stream",
     "text": [
      "Obtained Mean Absolute Error: 431.25850340136043\n",
      "\n",
      "Obtained Mean Squared Error: 350869.7460317461\n",
      "\n",
      "Obtained Root Mean Squared Error: 592.3425917758625\n",
      "\n",
      "Obtained Mean Absolute Percentage Error: 17.64431247625879\n",
      "\n",
      "Obtained R2 Score: 0.8973113808212532\n",
      "\n",
      "NAME: KAVIYADHARSHINI R\n",
      "CB.SC.I5DAS21035\n"
     ]
    }
   ],
   "source": [
    "import numpy as np\n",
    "import pandas as pd\n",
    "from sklearn.preprocessing import LabelEncoder\n",
    "from sklearn.neighbors import KNeighborsRegressor\n",
    "from sklearn.model_selection import train_test_split\n",
    "from math import fmod\n",
    "\n",
    "df=pd.read_csv(r\"C:\\Users\\USER\\.jupyter\\day.csv\")\n",
    "df\n",
    "\n",
    "df = df.drop(['dteday'], axis=1)\n",
    "X = df.iloc[:,:-1]\n",
    "y = df.iloc[:,-1]\n",
    "\n",
    "X_train, X_test, y_train, y_test = train_test_split(X, y, train_size=0.8, random_state=0)\n",
    "\n",
    "from sklearn.preprocessing import StandardScaler\n",
    "Scaler=StandardScaler()\n",
    "X_train = Scaler.fit_transform(X_train)\n",
    "X_test = Scaler.fit_transform(X_test)\n",
    "\n",
    "val = KNeighborsRegressor(n_neighbors=3)\n",
    "val.fit(X_train, y_train)\n",
    "y_pred = val.predict(X_test)\n",
    "\n",
    "sum1 = []\n",
    "for i, j in zip(y_pred, y_test):\n",
    "    y = i-j\n",
    "    if y<0:\n",
    "        y=-y\n",
    "    sum1.append(y)\n",
    "MAE = sum(sum1)/len(y_test)\n",
    "print('Obtained Mean Absolute Error:',MAE)\n",
    "print()\n",
    "\n",
    "sum2 = []\n",
    "for i, j in zip(y_pred, y_test):\n",
    "    y = (i-j)**2\n",
    "    sum1.append(y)\n",
    "MSE = sum(sum1)/len(y_test)\n",
    "print('Obtained Mean Squared Error:',MSE)\n",
    "print()\n",
    "\n",
    "RMSE = np.sqrt(MSE)\n",
    "print('Obtained Root Mean Squared Error:',RMSE)\n",
    "print()\n",
    "\n",
    "sum3=[]\n",
    "for i, j in zip(y_pred, y_test):\n",
    "    y = i-j\n",
    "    if y<0:\n",
    "        y=-y\n",
    "    y=y/j\n",
    "    sum3.append(y)\n",
    "MAPE = sum(sum3)*100/len(y_test)\n",
    "print('Obtained Mean Absolute Percentage Error:',MAPE)\n",
    "print()\n",
    "\n",
    "sum4 = []\n",
    "for i in y_pred:\n",
    "    y = (i-np.mean(y_test))**2\n",
    "    sum4.append(y)\n",
    "R2 = 1 - (sum(sum1)/sum(sum4))\n",
    "print('Obtained R2 Score:',R2)\n",
    "print()\n",
    "\n",
    "print(\"NAME: KAVIYADHARSHINI R\")\n",
    "print(\"CB.SC.I5DAS21035\")"
   ]
  },
  {
   "cell_type": "code",
   "execution_count": null,
   "id": "abb93c44",
   "metadata": {},
   "outputs": [],
   "source": []
  }
 ],
 "metadata": {
  "kernelspec": {
   "display_name": "Python 3 (ipykernel)",
   "language": "python",
   "name": "python3"
  },
  "language_info": {
   "codemirror_mode": {
    "name": "ipython",
    "version": 3
   },
   "file_extension": ".py",
   "mimetype": "text/x-python",
   "name": "python",
   "nbconvert_exporter": "python",
   "pygments_lexer": "ipython3",
   "version": "3.11.7"
  }
 },
 "nbformat": 4,
 "nbformat_minor": 5
}
