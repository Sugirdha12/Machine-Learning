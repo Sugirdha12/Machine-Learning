{
 "cells": [
  {
   "cell_type": "code",
   "execution_count": 1,
   "id": "b8cf2df1-65b1-42a8-a807-dc53fcfb9133",
   "metadata": {},
   "outputs": [],
   "source": [
    "import pandas as pd\n",
    "import numpy as np\n",
    "import seaborn as sns"
   ]
  },
  {
   "cell_type": "code",
   "execution_count": 6,
   "id": "27c30f52-6367-4010-a784-4cdaf9a950e6",
   "metadata": {},
   "outputs": [],
   "source": [
    "from sklearn.datasets import load_iris\n",
    "df1 = sns.load_dataset('iris')\n"
   ]
  },
  {
   "cell_type": "code",
   "execution_count": 7,
   "id": "b4225e00-e985-43cd-b487-72e58919e4a7",
   "metadata": {},
   "outputs": [],
   "source": [
    "from sklearn import svm\n",
    "lin_classifier = svm.SVC(kernel='linear')"
   ]
  },
  {
   "cell_type": "code",
   "execution_count": 9,
   "id": "151e2bf1-f912-4212-a4a2-f95730fd6a2e",
   "metadata": {},
   "outputs": [
    {
     "data": {
      "text/html": [
       "<div>\n",
       "<style scoped>\n",
       "    .dataframe tbody tr th:only-of-type {\n",
       "        vertical-align: middle;\n",
       "    }\n",
       "\n",
       "    .dataframe tbody tr th {\n",
       "        vertical-align: top;\n",
       "    }\n",
       "\n",
       "    .dataframe thead th {\n",
       "        text-align: right;\n",
       "    }\n",
       "</style>\n",
       "<table border=\"1\" class=\"dataframe\">\n",
       "  <thead>\n",
       "    <tr style=\"text-align: right;\">\n",
       "      <th></th>\n",
       "      <th>sepal_length</th>\n",
       "      <th>sepal_width</th>\n",
       "      <th>petal_length</th>\n",
       "      <th>petal_width</th>\n",
       "      <th>species</th>\n",
       "    </tr>\n",
       "  </thead>\n",
       "  <tbody>\n",
       "    <tr>\n",
       "      <th>0</th>\n",
       "      <td>5.1</td>\n",
       "      <td>3.5</td>\n",
       "      <td>1.4</td>\n",
       "      <td>0.2</td>\n",
       "      <td>setosa</td>\n",
       "    </tr>\n",
       "    <tr>\n",
       "      <th>1</th>\n",
       "      <td>4.9</td>\n",
       "      <td>3.0</td>\n",
       "      <td>1.4</td>\n",
       "      <td>0.2</td>\n",
       "      <td>setosa</td>\n",
       "    </tr>\n",
       "    <tr>\n",
       "      <th>2</th>\n",
       "      <td>4.7</td>\n",
       "      <td>3.2</td>\n",
       "      <td>1.3</td>\n",
       "      <td>0.2</td>\n",
       "      <td>setosa</td>\n",
       "    </tr>\n",
       "    <tr>\n",
       "      <th>3</th>\n",
       "      <td>4.6</td>\n",
       "      <td>3.1</td>\n",
       "      <td>1.5</td>\n",
       "      <td>0.2</td>\n",
       "      <td>setosa</td>\n",
       "    </tr>\n",
       "    <tr>\n",
       "      <th>4</th>\n",
       "      <td>5.0</td>\n",
       "      <td>3.6</td>\n",
       "      <td>1.4</td>\n",
       "      <td>0.2</td>\n",
       "      <td>setosa</td>\n",
       "    </tr>\n",
       "  </tbody>\n",
       "</table>\n",
       "</div>"
      ],
      "text/plain": [
       "   sepal_length  sepal_width  petal_length  petal_width species\n",
       "0           5.1          3.5           1.4          0.2  setosa\n",
       "1           4.9          3.0           1.4          0.2  setosa\n",
       "2           4.7          3.2           1.3          0.2  setosa\n",
       "3           4.6          3.1           1.5          0.2  setosa\n",
       "4           5.0          3.6           1.4          0.2  setosa"
      ]
     },
     "execution_count": 9,
     "metadata": {},
     "output_type": "execute_result"
    }
   ],
   "source": [
    "df1.head()"
   ]
  },
  {
   "cell_type": "code",
   "execution_count": 10,
   "id": "72d300a5-5327-497e-947d-058f5c9b86b0",
   "metadata": {},
   "outputs": [
    {
     "data": {
      "text/plain": [
       "Index(['sepal_length', 'sepal_width', 'petal_length', 'petal_width',\n",
       "       'species'],\n",
       "      dtype='object')"
      ]
     },
     "execution_count": 10,
     "metadata": {},
     "output_type": "execute_result"
    }
   ],
   "source": [
    "df1.columns"
   ]
  },
  {
   "cell_type": "code",
   "execution_count": 13,
   "id": "2c5745a4-46fa-4099-ae5d-712f18a6d5e5",
   "metadata": {},
   "outputs": [],
   "source": [
    "from sklearn.model_selection import train_test_split\n",
    "x = df1[[ 'sepal_length','sepal_width', 'petal_length', 'petal_width']]\n",
    "y = df1['species']\n",
    "x_train, x_test, y_train, y_test = train_test_split(x,y,test_size=0.2,random_state=0)"
   ]
  },
  {
   "cell_type": "code",
   "execution_count": 14,
   "id": "4dd3cec9-d4b2-4b42-b0c6-0c258b8c1f46",
   "metadata": {},
   "outputs": [],
   "source": [
    "lin_classifier.fit(x_train,y_train)\n",
    "lin_pred = lin_classifier.predict(x_test)"
   ]
  },
  {
   "cell_type": "code",
   "execution_count": 28,
   "id": "2488b776-fb87-4049-ad48-5ff64a366690",
   "metadata": {},
   "outputs": [
    {
     "name": "stdout",
     "output_type": "stream",
     "text": [
      "NAME: R U SUGIRDHA\n",
      "CB.SC.I5DAS21062\n",
      "accuracy: 1.0\n"
     ]
    }
   ],
   "source": [
    "from sklearn.metrics import accuracy_score\n",
    "print(\"NAME: R U SUGIRDHA\")\n",
    "print(\"CB.SC.I5DAS21062\")\n",
    "print('accuracy:',accuracy_score(y_test,lin_pred))\n"
   ]
  },
  {
   "cell_type": "code",
   "execution_count": 16,
   "id": "80bf5e69-1491-4ee8-b974-44225aa41f3a",
   "metadata": {},
   "outputs": [],
   "source": [
    "poly_classifier = svm.SVC(kernel='poly')"
   ]
  },
  {
   "cell_type": "code",
   "execution_count": 17,
   "id": "e26093eb-be44-4833-86fc-2d0e9bc99ac0",
   "metadata": {},
   "outputs": [],
   "source": [
    "poly_classifier.fit(x_train,y_train)\n",
    "poly_pred = poly_classifier.predict(x_test)"
   ]
  },
  {
   "cell_type": "code",
   "execution_count": 27,
   "id": "ecfa9f65-9edf-4f5c-8c1d-ef05889e1241",
   "metadata": {},
   "outputs": [
    {
     "name": "stdout",
     "output_type": "stream",
     "text": [
      "NAME: R U SUGIRDHA\n",
      "CB.SC.I5DAS21062\n",
      "accuracy: 1.0\n"
     ]
    }
   ],
   "source": [
    "print(\"NAME: R U SUGIRDHA\")\n",
    "print(\"CB.SC.I5DAS21062\")\n",
    "print('accuracy:',accuracy_score(y_test,poly_pred))\n"
   ]
  },
  {
   "cell_type": "code",
   "execution_count": 19,
   "id": "9ead7992-8eb6-4a11-ac66-44a91030d847",
   "metadata": {},
   "outputs": [],
   "source": [
    "rbf_classifier = svm.SVC(kernel='rbf')"
   ]
  },
  {
   "cell_type": "code",
   "execution_count": 20,
   "id": "a7928248-b94b-4514-850f-c28de2a6c451",
   "metadata": {},
   "outputs": [],
   "source": [
    "rbf_classifier.fit(x_train,y_train)\n",
    "rbf_pred = poly_classifier.predict(x_test)"
   ]
  },
  {
   "cell_type": "code",
   "execution_count": 26,
   "id": "8eb3f3fe-c2a5-4d5d-9afa-9da29162c171",
   "metadata": {},
   "outputs": [
    {
     "name": "stdout",
     "output_type": "stream",
     "text": [
      "NAME: R U SUGIRDHA\n",
      "CB.SC.I5DAS21062\n",
      "accuracy: 1.0\n"
     ]
    }
   ],
   "source": [
    "print(\"NAME: R U SUGIRDHA\")\n",
    "print(\"CB.SC.I5DAS21062\")\n",
    "print('accuracy:',accuracy_score(y_test,rbf_pred))\n"
   ]
  },
  {
   "cell_type": "code",
   "execution_count": 22,
   "id": "0f5c4b35-b4d6-4b8b-b22c-198255238359",
   "metadata": {},
   "outputs": [],
   "source": [
    "sigmoid_classifier = svm.SVC(kernel='sigmoid')"
   ]
  },
  {
   "cell_type": "code",
   "execution_count": 23,
   "id": "6af75caa-0727-446e-9ac5-40b61f57a9a8",
   "metadata": {},
   "outputs": [],
   "source": [
    "sigmoid_classifier.fit(x_train,y_train)\n",
    "sigmoid_pred = poly_classifier.predict(x_test)"
   ]
  },
  {
   "cell_type": "code",
   "execution_count": 25,
   "id": "794c89c4-af85-44d1-8c32-e9ef51ddc550",
   "metadata": {},
   "outputs": [
    {
     "name": "stdout",
     "output_type": "stream",
     "text": [
      "NAME: R U SUGIRDHA\n",
      "CB.SC.I5DAS21062\n",
      "accuracy: 1.0\n"
     ]
    }
   ],
   "source": [
    "print(\"NAME: R U SUGIRDHA\")\n",
    "print(\"CB.SC.I5DAS21062\")\n",
    "print('accuracy:',accuracy_score(y_test,sigmoid_pred))"
   ]
  },
  {
   "cell_type": "code",
   "execution_count": null,
   "id": "e4268873-790d-4fb7-b09f-8c908ee3dd98",
   "metadata": {},
   "outputs": [],
   "source": []
  }
 ],
 "metadata": {
  "kernelspec": {
   "display_name": "Python 3 (ipykernel)",
   "language": "python",
   "name": "python3"
  },
  "language_info": {
   "codemirror_mode": {
    "name": "ipython",
    "version": 3
   },
   "file_extension": ".py",
   "mimetype": "text/x-python",
   "name": "python",
   "nbconvert_exporter": "python",
   "pygments_lexer": "ipython3",
   "version": "3.12.2"
  }
 },
 "nbformat": 4,
 "nbformat_minor": 5
}
