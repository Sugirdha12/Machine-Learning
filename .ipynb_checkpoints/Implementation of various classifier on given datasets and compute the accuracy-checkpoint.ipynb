{
 "cells": [
  {
   "cell_type": "code",
   "execution_count": 1,
   "id": "9f285e19-b313-4b89-81c2-e32521dbf918",
   "metadata": {},
   "outputs": [],
   "source": [
    "import pandas as pd\n",
    "from sklearn import datasets\n",
    "from sklearn.model_selection import train_test_split\n",
    "from sklearn.preprocessing import StandardScaler\n",
    "from sklearn.svm import SVC\n",
    "from sklearn.naive_bayes import GaussianNB\n",
    "from sklearn.tree import DecisionTreeClassifier\n",
    "from sklearn.metrics import accuracy_score, precision_score, recall_score, f1_score\n",
    "from sklearn.preprocessing import LabelEncoder\n",
    "from sklearn.ensemble import RandomForestClassifier"
   ]
  },
  {
   "cell_type": "code",
   "execution_count": 2,
   "id": "c2bdc4db-3be0-4fe9-90d9-8de7062d43ca",
   "metadata": {},
   "outputs": [],
   "source": [
    "df = pd.read_csv(r\"E:\\sugi\\sem6\\machine learning\\datasets\\Covid Data.csv\")"
   ]
  },
  {
   "cell_type": "code",
   "execution_count": 3,
   "id": "d41313a6-428f-411d-b441-58770bcb3100",
   "metadata": {},
   "outputs": [
    {
     "data": {
      "text/html": [
       "<div>\n",
       "<style scoped>\n",
       "    .dataframe tbody tr th:only-of-type {\n",
       "        vertical-align: middle;\n",
       "    }\n",
       "\n",
       "    .dataframe tbody tr th {\n",
       "        vertical-align: top;\n",
       "    }\n",
       "\n",
       "    .dataframe thead th {\n",
       "        text-align: right;\n",
       "    }\n",
       "</style>\n",
       "<table border=\"1\" class=\"dataframe\">\n",
       "  <thead>\n",
       "    <tr style=\"text-align: right;\">\n",
       "      <th></th>\n",
       "      <th>MEDICAL_UNIT</th>\n",
       "      <th>SEX</th>\n",
       "      <th>PATIENT_TYPE</th>\n",
       "      <th>PNEUMONIA</th>\n",
       "      <th>AGE</th>\n",
       "      <th>DIABETES</th>\n",
       "      <th>COPD</th>\n",
       "      <th>ASTHMA</th>\n",
       "      <th>INMSUPR</th>\n",
       "      <th>HIPERTENSION</th>\n",
       "      <th>OTHER_DISEASE</th>\n",
       "      <th>CARDIOVASCULAR</th>\n",
       "      <th>OBESITY</th>\n",
       "      <th>RENAL_CHRONIC</th>\n",
       "      <th>TOBACCO</th>\n",
       "      <th>RESULTS</th>\n",
       "    </tr>\n",
       "  </thead>\n",
       "  <tbody>\n",
       "    <tr>\n",
       "      <th>0</th>\n",
       "      <td>1</td>\n",
       "      <td>Female</td>\n",
       "      <td>Returned Home</td>\n",
       "      <td>1</td>\n",
       "      <td>65</td>\n",
       "      <td>2</td>\n",
       "      <td>2</td>\n",
       "      <td>2</td>\n",
       "      <td>2</td>\n",
       "      <td>1</td>\n",
       "      <td>2</td>\n",
       "      <td>2</td>\n",
       "      <td>2</td>\n",
       "      <td>2</td>\n",
       "      <td>2</td>\n",
       "      <td>Positive</td>\n",
       "    </tr>\n",
       "    <tr>\n",
       "      <th>1</th>\n",
       "      <td>1</td>\n",
       "      <td>Male</td>\n",
       "      <td>Returned Home</td>\n",
       "      <td>1</td>\n",
       "      <td>72</td>\n",
       "      <td>2</td>\n",
       "      <td>2</td>\n",
       "      <td>2</td>\n",
       "      <td>2</td>\n",
       "      <td>1</td>\n",
       "      <td>2</td>\n",
       "      <td>2</td>\n",
       "      <td>1</td>\n",
       "      <td>1</td>\n",
       "      <td>2</td>\n",
       "      <td>Negative</td>\n",
       "    </tr>\n",
       "    <tr>\n",
       "      <th>2</th>\n",
       "      <td>1</td>\n",
       "      <td>Male</td>\n",
       "      <td>Hosptilized</td>\n",
       "      <td>2</td>\n",
       "      <td>55</td>\n",
       "      <td>1</td>\n",
       "      <td>2</td>\n",
       "      <td>2</td>\n",
       "      <td>2</td>\n",
       "      <td>2</td>\n",
       "      <td>2</td>\n",
       "      <td>2</td>\n",
       "      <td>2</td>\n",
       "      <td>2</td>\n",
       "      <td>2</td>\n",
       "      <td>Positive</td>\n",
       "    </tr>\n",
       "    <tr>\n",
       "      <th>3</th>\n",
       "      <td>1</td>\n",
       "      <td>Female</td>\n",
       "      <td>Returned Home</td>\n",
       "      <td>2</td>\n",
       "      <td>53</td>\n",
       "      <td>2</td>\n",
       "      <td>2</td>\n",
       "      <td>2</td>\n",
       "      <td>2</td>\n",
       "      <td>2</td>\n",
       "      <td>2</td>\n",
       "      <td>2</td>\n",
       "      <td>2</td>\n",
       "      <td>2</td>\n",
       "      <td>2</td>\n",
       "      <td>Negative</td>\n",
       "    </tr>\n",
       "    <tr>\n",
       "      <th>4</th>\n",
       "      <td>1</td>\n",
       "      <td>Male</td>\n",
       "      <td>Returned Home</td>\n",
       "      <td>2</td>\n",
       "      <td>68</td>\n",
       "      <td>1</td>\n",
       "      <td>2</td>\n",
       "      <td>2</td>\n",
       "      <td>2</td>\n",
       "      <td>1</td>\n",
       "      <td>2</td>\n",
       "      <td>2</td>\n",
       "      <td>2</td>\n",
       "      <td>2</td>\n",
       "      <td>2</td>\n",
       "      <td>Positive</td>\n",
       "    </tr>\n",
       "    <tr>\n",
       "      <th>...</th>\n",
       "      <td>...</td>\n",
       "      <td>...</td>\n",
       "      <td>...</td>\n",
       "      <td>...</td>\n",
       "      <td>...</td>\n",
       "      <td>...</td>\n",
       "      <td>...</td>\n",
       "      <td>...</td>\n",
       "      <td>...</td>\n",
       "      <td>...</td>\n",
       "      <td>...</td>\n",
       "      <td>...</td>\n",
       "      <td>...</td>\n",
       "      <td>...</td>\n",
       "      <td>...</td>\n",
       "      <td>...</td>\n",
       "    </tr>\n",
       "    <tr>\n",
       "      <th>9995</th>\n",
       "      <td>3</td>\n",
       "      <td>Female</td>\n",
       "      <td>Returned Home</td>\n",
       "      <td>2</td>\n",
       "      <td>8</td>\n",
       "      <td>2</td>\n",
       "      <td>2</td>\n",
       "      <td>2</td>\n",
       "      <td>2</td>\n",
       "      <td>2</td>\n",
       "      <td>2</td>\n",
       "      <td>2</td>\n",
       "      <td>2</td>\n",
       "      <td>2</td>\n",
       "      <td>2</td>\n",
       "      <td>Negative</td>\n",
       "    </tr>\n",
       "    <tr>\n",
       "      <th>9996</th>\n",
       "      <td>3</td>\n",
       "      <td>Female</td>\n",
       "      <td>Returned Home</td>\n",
       "      <td>2</td>\n",
       "      <td>3</td>\n",
       "      <td>2</td>\n",
       "      <td>2</td>\n",
       "      <td>2</td>\n",
       "      <td>2</td>\n",
       "      <td>2</td>\n",
       "      <td>2</td>\n",
       "      <td>2</td>\n",
       "      <td>2</td>\n",
       "      <td>2</td>\n",
       "      <td>2</td>\n",
       "      <td>Negative</td>\n",
       "    </tr>\n",
       "    <tr>\n",
       "      <th>9997</th>\n",
       "      <td>3</td>\n",
       "      <td>Male</td>\n",
       "      <td>Returned Home</td>\n",
       "      <td>2</td>\n",
       "      <td>45</td>\n",
       "      <td>2</td>\n",
       "      <td>2</td>\n",
       "      <td>2</td>\n",
       "      <td>2</td>\n",
       "      <td>1</td>\n",
       "      <td>2</td>\n",
       "      <td>2</td>\n",
       "      <td>2</td>\n",
       "      <td>1</td>\n",
       "      <td>2</td>\n",
       "      <td>Negative</td>\n",
       "    </tr>\n",
       "    <tr>\n",
       "      <th>9998</th>\n",
       "      <td>3</td>\n",
       "      <td>Female</td>\n",
       "      <td>Returned Home</td>\n",
       "      <td>2</td>\n",
       "      <td>32</td>\n",
       "      <td>2</td>\n",
       "      <td>2</td>\n",
       "      <td>2</td>\n",
       "      <td>2</td>\n",
       "      <td>2</td>\n",
       "      <td>2</td>\n",
       "      <td>2</td>\n",
       "      <td>2</td>\n",
       "      <td>2</td>\n",
       "      <td>2</td>\n",
       "      <td>Negative</td>\n",
       "    </tr>\n",
       "    <tr>\n",
       "      <th>9999</th>\n",
       "      <td>3</td>\n",
       "      <td>Female</td>\n",
       "      <td>Returned Home</td>\n",
       "      <td>2</td>\n",
       "      <td>60</td>\n",
       "      <td>2</td>\n",
       "      <td>2</td>\n",
       "      <td>2</td>\n",
       "      <td>2</td>\n",
       "      <td>2</td>\n",
       "      <td>2</td>\n",
       "      <td>2</td>\n",
       "      <td>1</td>\n",
       "      <td>2</td>\n",
       "      <td>2</td>\n",
       "      <td>Negative</td>\n",
       "    </tr>\n",
       "  </tbody>\n",
       "</table>\n",
       "<p>10000 rows × 16 columns</p>\n",
       "</div>"
      ],
      "text/plain": [
       "      MEDICAL_UNIT     SEX   PATIENT_TYPE  PNEUMONIA  AGE  DIABETES  COPD  \\\n",
       "0                1  Female  Returned Home          1   65         2     2   \n",
       "1                1    Male  Returned Home          1   72         2     2   \n",
       "2                1    Male    Hosptilized          2   55         1     2   \n",
       "3                1  Female  Returned Home          2   53         2     2   \n",
       "4                1    Male  Returned Home          2   68         1     2   \n",
       "...            ...     ...            ...        ...  ...       ...   ...   \n",
       "9995             3  Female  Returned Home          2    8         2     2   \n",
       "9996             3  Female  Returned Home          2    3         2     2   \n",
       "9997             3    Male  Returned Home          2   45         2     2   \n",
       "9998             3  Female  Returned Home          2   32         2     2   \n",
       "9999             3  Female  Returned Home          2   60         2     2   \n",
       "\n",
       "      ASTHMA  INMSUPR  HIPERTENSION  OTHER_DISEASE  CARDIOVASCULAR  OBESITY  \\\n",
       "0          2        2             1              2               2        2   \n",
       "1          2        2             1              2               2        1   \n",
       "2          2        2             2              2               2        2   \n",
       "3          2        2             2              2               2        2   \n",
       "4          2        2             1              2               2        2   \n",
       "...      ...      ...           ...            ...             ...      ...   \n",
       "9995       2        2             2              2               2        2   \n",
       "9996       2        2             2              2               2        2   \n",
       "9997       2        2             1              2               2        2   \n",
       "9998       2        2             2              2               2        2   \n",
       "9999       2        2             2              2               2        1   \n",
       "\n",
       "      RENAL_CHRONIC  TOBACCO   RESULTS  \n",
       "0                 2        2  Positive  \n",
       "1                 1        2  Negative  \n",
       "2                 2        2  Positive  \n",
       "3                 2        2  Negative  \n",
       "4                 2        2  Positive  \n",
       "...             ...      ...       ...  \n",
       "9995              2        2  Negative  \n",
       "9996              2        2  Negative  \n",
       "9997              1        2  Negative  \n",
       "9998              2        2  Negative  \n",
       "9999              2        2  Negative  \n",
       "\n",
       "[10000 rows x 16 columns]"
      ]
     },
     "execution_count": 3,
     "metadata": {},
     "output_type": "execute_result"
    }
   ],
   "source": [
    "df"
   ]
  },
  {
   "cell_type": "code",
   "execution_count": 4,
   "id": "db7cd002-9494-4786-bd40-5ab78e60f20e",
   "metadata": {},
   "outputs": [
    {
     "name": "stderr",
     "output_type": "stream",
     "text": [
      "C:\\Users\\sugirdha\\AppData\\Local\\Temp\\ipykernel_13400\\3367401909.py:1: FutureWarning: Downcasting behavior in `replace` is deprecated and will be removed in a future version. To retain the old behavior, explicitly call `result.infer_objects(copy=False)`. To opt-in to the future behavior, set `pd.set_option('future.no_silent_downcasting', True)`\n",
      "  df['SEX'] = df['SEX'].replace({'Male':0,'Female':1})\n"
     ]
    }
   ],
   "source": [
    "df['SEX'] = df['SEX'].replace({'Male':0,'Female':1})"
   ]
  },
  {
   "cell_type": "code",
   "execution_count": 5,
   "id": "d4f60af7-b30c-4c59-a45f-1b5c5f6f7f87",
   "metadata": {},
   "outputs": [],
   "source": [
    "le = LabelEncoder()\n",
    "encoded = le.fit_transform(df['RESULTS'])\n",
    "encoded_type= le.fit_transform(df['PATIENT_TYPE'])"
   ]
  },
  {
   "cell_type": "code",
   "execution_count": 6,
   "id": "4b32bb65-d832-47ba-8f34-2b1465c923be",
   "metadata": {},
   "outputs": [],
   "source": [
    "df['RESULTS'] = encoded\n",
    "df['PATIENT_TYPE'] = encoded_type"
   ]
  },
  {
   "cell_type": "code",
   "execution_count": 7,
   "id": "0775cb57-4082-46c6-8c72-d8bbaa8030fe",
   "metadata": {},
   "outputs": [],
   "source": [
    "X = df.drop('RESULTS', axis = 1)\n",
    "y = df.RESULTS\n",
    "X_train, X_test, y_train, y_test = train_test_split(X, y, test_size=0.2, random_state=0)"
   ]
  },
  {
   "cell_type": "code",
   "execution_count": 8,
   "id": "7e6745ca-a58c-4cee-803f-bc76053cee27",
   "metadata": {},
   "outputs": [],
   "source": [
    "scaler = StandardScaler()\n",
    "X_train = scaler.fit_transform(X_train)\n",
    "X_test = scaler.transform(X_test)\n"
   ]
  },
  {
   "cell_type": "raw",
   "id": "1c0a0fb9-793c-49c3-a061-56a1cbb673d9",
   "metadata": {},
   "source": [
    "Support Vector "
   ]
  },
  {
   "cell_type": "code",
   "execution_count": 9,
   "id": "b904dcef-fc8d-4e94-adb6-c2905a13fa17",
   "metadata": {},
   "outputs": [],
   "source": [
    "svm_classifier = SVC(kernel='linear')\n",
    "svm_classifier.fit(X_train, y_train)\n",
    "svm_predictions = svm_classifier.predict(X_test)\n"
   ]
  },
  {
   "cell_type": "code",
   "execution_count": 11,
   "id": "c3e038bf-68b9-4ea0-9535-1412afe8966b",
   "metadata": {},
   "outputs": [
    {
     "name": "stdout",
     "output_type": "stream",
     "text": [
      "NAME: R U SUGIRDHA\n",
      "CB.SC.I5DAS21062\n",
      "SVM\n",
      "Accuracy: 0.884\n",
      "Precision : 0.875121243523316\n",
      "Recall : 0.884\n",
      "F1-Score : 0.8528409750139941\n"
     ]
    }
   ],
   "source": [
    "print(\"NAME: R U SUGIRDHA\")\n",
    "print(\"CB.SC.I5DAS21062\")\n",
    "print(\"SVM\")\n",
    "print(\"Accuracy:\", accuracy_score(y_test, svm_predictions))\n",
    "print(\"Precision :\", precision_score(y_test, svm_predictions, average='weighted'))\n",
    "print(\"Recall :\", recall_score(y_test, svm_predictions, average='weighted'))\n",
    "print(\"F1-Score :\", f1_score(y_test, svm_predictions, average='weighted'))"
   ]
  },
  {
   "cell_type": "markdown",
   "id": "79a05d2f-291b-46b4-a0b5-78794ff37fe8",
   "metadata": {},
   "source": [
    "Decision Tree"
   ]
  },
  {
   "cell_type": "code",
   "execution_count": 12,
   "id": "7d402e29-9ed0-4d8e-9d08-417283b5890b",
   "metadata": {},
   "outputs": [],
   "source": [
    "dt_classifier = DecisionTreeClassifier()\n",
    "dt_classifier.fit(X_train, y_train)\n",
    "dt_predictions = dt_classifier.predict(X_test)"
   ]
  },
  {
   "cell_type": "code",
   "execution_count": 13,
   "id": "cefd5e91-1432-4df2-9d2d-965153f93ea6",
   "metadata": {},
   "outputs": [
    {
     "name": "stdout",
     "output_type": "stream",
     "text": [
      "NAME: R U SUGIRDHA\n",
      "CB.SC.I5DAS21062\n",
      "DECISION TREE\n",
      "Accuracy: 0.832\n",
      "Precision : 0.8090202965978481\n",
      "Recall : 0.832\n",
      "F1-Score : 0.818788578561398\n"
     ]
    }
   ],
   "source": [
    "print(\"NAME: R U SUGIRDHA\")\n",
    "print(\"CB.SC.I5DAS21062\")\n",
    "print(\"DECISION TREE\")\n",
    "print(\"Accuracy:\", accuracy_score(y_test, dt_predictions))\n",
    "print(\"Precision :\", precision_score(y_test, dt_predictions, average='weighted'))\n",
    "print(\"Recall :\", recall_score(y_test, dt_predictions, average='weighted'))\n",
    "print(\"F1-Score :\", f1_score(y_test, dt_predictions, average='weighted'))"
   ]
  },
  {
   "cell_type": "markdown",
   "id": "4f8c7302-55d2-417e-aad2-937786a4f245",
   "metadata": {},
   "source": [
    "Naive Bayes"
   ]
  },
  {
   "cell_type": "code",
   "execution_count": 14,
   "id": "d0f71404-79ca-49ad-8fef-32ca7aea9a47",
   "metadata": {},
   "outputs": [],
   "source": [
    "nb_classifier = GaussianNB()\n",
    "nb_classifier.fit(X_train, y_train)\n",
    "nb_predictions = nb_classifier.predict(X_test)"
   ]
  },
  {
   "cell_type": "code",
   "execution_count": 15,
   "id": "c65ed06d-3011-48d0-a130-9d0e7a6d8f0a",
   "metadata": {},
   "outputs": [
    {
     "name": "stdout",
     "output_type": "stream",
     "text": [
      "NAME: R U SUGIRDHA\n",
      "CB.SC.I5DAS21062\n",
      "NAIVE BAYES\n",
      "Accuracy: 0.8805\n",
      "Precision : 0.8635962881258995\n",
      "Recall : 0.8805\n",
      "F1-Score : 0.8516655648259853\n"
     ]
    }
   ],
   "source": [
    "print(\"NAME: R U SUGIRDHA\")\n",
    "print(\"CB.SC.I5DAS21062\")\n",
    "print(\"NAIVE BAYES\")\n",
    "print(\"Accuracy:\", accuracy_score(y_test, nb_predictions))\n",
    "print(\"Precision :\", precision_score(y_test, nb_predictions, average='weighted'))\n",
    "print(\"Recall :\", recall_score(y_test, nb_predictions, average='weighted'))\n",
    "print(\"F1-Score :\", f1_score(y_test, nb_predictions, average='weighted'))"
   ]
  },
  {
   "cell_type": "markdown",
   "id": "02ba258c-db4a-40da-8595-3758c61fe33e",
   "metadata": {},
   "source": [
    "Random Forest Classifier"
   ]
  },
  {
   "cell_type": "code",
   "execution_count": 16,
   "id": "b8a721df-20bf-44a0-942f-d85046d44411",
   "metadata": {},
   "outputs": [],
   "source": [
    "rf = RandomForestClassifier()\n",
    "rf.fit(X_train,y_train)\n",
    "rf_predictions=rf.predict(X_test)"
   ]
  },
  {
   "cell_type": "code",
   "execution_count": 17,
   "id": "64cd1425-f27f-4b88-a00e-c58fa1de2d2a",
   "metadata": {},
   "outputs": [
    {
     "name": "stdout",
     "output_type": "stream",
     "text": [
      "NAME: R U SUGIRDHA\n",
      "CB.SC.I5DAS21062\n",
      "RANDOM FOREST\n",
      "Accuracy: 0.86\n",
      "Precision : 0.8300951522435898\n",
      "Recall : 0.86\n",
      "F1-Score : 0.8374175813539309\n"
     ]
    }
   ],
   "source": [
    "print(\"NAME: R U SUGIRDHA\")\n",
    "print(\"CB.SC.I5DAS21062\")\n",
    "print(\"RANDOM FOREST\")\n",
    "print(\"Accuracy:\", accuracy_score(y_test, rf_predictions))\n",
    "print(\"Precision :\", precision_score(y_test, rf_predictions, average='weighted'))\n",
    "print(\"Recall :\", recall_score(y_test, rf_predictions, average='weighted'))\n",
    "print(\"F1-Score :\", f1_score(y_test, rf_predictions, average='weighted'))"
   ]
  },
  {
   "cell_type": "code",
   "execution_count": null,
   "id": "67ce428f-1b78-472b-ad4a-ce94d1531227",
   "metadata": {},
   "outputs": [],
   "source": []
  }
 ],
 "metadata": {
  "kernelspec": {
   "display_name": "Python 3 (ipykernel)",
   "language": "python",
   "name": "python3"
  },
  "language_info": {
   "codemirror_mode": {
    "name": "ipython",
    "version": 3
   },
   "file_extension": ".py",
   "mimetype": "text/x-python",
   "name": "python",
   "nbconvert_exporter": "python",
   "pygments_lexer": "ipython3",
   "version": "3.12.2"
  }
 },
 "nbformat": 4,
 "nbformat_minor": 5
}
