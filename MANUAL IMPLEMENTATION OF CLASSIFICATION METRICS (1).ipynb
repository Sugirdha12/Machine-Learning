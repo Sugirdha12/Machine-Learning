{
 "cells": [
  {
   "cell_type": "code",
   "execution_count": 1,
   "id": "ef77e372-9f5d-4af4-b7d6-a7ced80bcf69",
   "metadata": {},
   "outputs": [
    {
     "data": {
      "image/png": "[encoded data removed]",
      "text/plain": [
       "<Figure size 640x480 with 2 Axes>"
      ]
     },
     "metadata": {},
     "output_type": "display_data"
    },
    {
     "name": "stdout",
     "output_type": "stream",
     "text": [
      "Accuracy: 0.9992451107756047\n",
      "\n",
      "Precision: 0.7419354838709677\n",
      "\n",
      "Recall: 0.7840909090909091\n",
      "\n",
      "F1 score: 0.7624309392265195\n",
      "NAME: SUGIRDHA R U \n",
      "CB.SC.I5DAS21062\n"
     ]
    }
   ],
   "source": [
    "import pandas as pd \n",
    "import numpy as np \n",
    "from sklearn import tree \n",
    "from sklearn import datasets \n",
    "from sklearn.datasets import load_iris \n",
    "from sklearn.tree import DecisionTreeClassifier \n",
    "from sklearn.model_selection import train_test_split \n",
    "from sklearn.preprocessing import LabelEncoder\n",
    "import seaborn as sns \n",
    "from sklearn import metrics\n",
    "import matplotlib.pyplot as plt \n",
    "from sklearn.metrics import precision_score, recall_score, f1_score, accuracy_score \n",
    "\n",
    "df=pd.read_csv(r\"C:\\Users\\sugirdha\\Downloads\\archive\\creditcard.csv\")\n",
    "df = df.apply(LabelEncoder().fit_transform)\n",
    "\n",
    "X = df.iloc[:,:-1] \n",
    "y = df.iloc[:,-1]\n",
    "\n",
    "X_train, X_test, y_train, y_test = train_test_split(X, y, random_state=20, test_size=0.20)\n",
    "\n",
    "tree = DecisionTreeClassifier()\n",
    "tree.fit(X_train, y_train) \n",
    "y_pred = tree.predict(X_test) \n",
    "confusion_matrix = metrics.confusion_matrix(y_test, y_pred) \n",
    "cm_display = metrics.ConfusionMatrixDisplay( confusion_matrix=confusion_matrix, display_labels=[0, 1]) \n",
    "\n",
    "cm_display.plot()\n",
    "plt.show() \n",
    "\n",
    "cm_values = cm_display.confusion_matrix\n",
    "\n",
    "TP = cm_values[1, 1]\n",
    "TN = cm_values[0, 0]\n",
    "FP = cm_values[0, 1]\n",
    "FN = cm_values[1, 0]\n",
    "\n",
    "accuracy = (TP + TN)/(TP+TN+FP+FN)\n",
    "precision = TP / (TP+FP)\n",
    "recall = TP/(TP+FN)\n",
    "f1 = 2*precision*recall/(precision+recall)\n",
    "\n",
    "print(\"Accuracy:\", accuracy)\n",
    "print()\n",
    "print(\"Precision:\", precision)\n",
    "print()\n",
    "print('Recall:', recall)\n",
    "print()\n",
    "print('F1 score:', f1)\n",
    "\n",
    "print(\"NAME: SUGIRDHA R U \")\n",
    "print(\"CB.SC.I5DAS21062\")"
   ]
  },
  {
   "cell_type": "code",
   "execution_count": 5,
   "id": "4e2079d9-2395-4659-86ef-2db4e12ec008",
   "metadata": {},
   "outputs": [
    {
     "name": "stdout",
     "output_type": "stream",
     "text": [
      "Mean Absolute Error (sklearn): 98.881332150774\n",
      "Mean Squared Error (sklearn): 13733.8406518176\n",
      "R-squared (sklearn): -1.544101088267638\n",
      "Mean Absolute Error (manual): 98.881332150774\n",
      "Mean Squared Error (manual): 13733.8406518176\n",
      "Root Mean Squared Error (manual): 117.19147004717365\n",
      "R-squared (manual): -1.544101088267638\n"
     ]
    }
   ],
   "source": [
    "from sklearn.datasets import load_diabetes\n",
    "from sklearn.model_selection import train_test_split\n",
    "import numpy as np\n",
    "from sklearn.metrics import mean_absolute_error as sklearn_mae\n",
    "from sklearn.metrics import mean_squared_error as sklearn_mse\n",
    "from sklearn.metrics import r2_score as sklearn_r2\n",
    "\n",
    "# Manually implemented regression metrics\n",
    "def mean_absolute_error(y_true, y_pred):\n",
    "    return np.mean(np.abs(np.subtract(y_true, y_pred)))\n",
    "\n",
    "def mean_squared_error(y_true, y_pred):\n",
    "    return np.mean(np.square(np.subtract(y_true, y_pred)))\n",
    "\n",
    "def root_mean_squared_error(y_true, y_pred):\n",
    "    return np.sqrt(mean_squared_error(y_true, y_pred))\n",
    "\n",
    "def r2_score(y_true, y_pred):\n",
    "    ss_total = np.sum(np.square(np.subtract(y_true, np.mean(y_true))))\n",
    "    ss_res = np.sum(np.square(np.subtract(y_true, y_pred)))\n",
    "    return 1 - (ss_res / ss_total)\n",
    "\n",
    "# Load sample dataset (Diabetes dataset)\n",
    "data = load_diabetes()\n",
    "X = data.data\n",
    "y = data.target\n",
    "\n",
    "# Split data into train and test sets\n",
    "X_train, X_test, y_train, y_test = train_test_split(X, y, test_size=0.3, random_state=42)\n",
    "\n",
    "# Here, you would train your regression model on X_train and make predictions on X_test\n",
    "# For demonstration purposes, let's use random predictions\n",
    "y_pred = np.random.rand(len(X_test)) * 300  # Random predictions between 0 and 300\n",
    "\n",
    "# Using sklearn's metrics for comparison\n",
    "print(\"Mean Absolute Error (sklearn):\", sklearn_mae(y_test, y_pred))\n",
    "print(\"Mean Squared Error (sklearn):\", sklearn_mse(y_test, y_pred))\n",
    "print(\"R-squared (sklearn):\", sklearn_r2(y_test, y_pred))\n",
    "\n",
    "# Using manually implemented metrics\n",
    "print(\"Mean Absolute Error (manual):\", mean_absolute_error(y_test, y_pred))\n",
    "print(\"Mean Squared Error (manual):\", mean_squared_error(y_test, y_pred))\n",
    "print(\"Root Mean Squared Error (manual):\", root_mean_squared_error(y_test, y_pred))\n",
    "print(\"R-squared (manual):\", r2_score(y_test, y_pred))\n"
   ]
  },
  {
   "cell_type": "code",
   "execution_count": null,
   "id": "2b88d184-aa8b-4f23-a04b-c46fd274aadd",
   "metadata": {},
   "outputs": [],
   "source": []
  }
 ],
 "metadata": {
  "kernelspec": {
   "display_name": "Python 3 (ipykernel)",
   "language": "python",
   "name": "python3"
  },
  "language_info": {
   "codemirror_mode": {
    "name": "ipython",
    "version": 3
   },
   "file_extension": ".py",
   "mimetype": "text/x-python",
   "name": "python",
   "nbconvert_exporter": "python",
   "pygments_lexer": "ipython3",
   "version": "3.12.2"
  }
 },
 "nbformat": 4,
 "nbformat_minor": 5
}
