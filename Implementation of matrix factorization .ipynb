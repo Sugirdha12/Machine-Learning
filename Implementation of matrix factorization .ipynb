{
 "cells": [
  {
   "cell_type": "code",
   "execution_count": 2,
   "id": "f7d4442c-44c9-49c6-9e7c-53651775abd0",
   "metadata": {},
   "outputs": [
    {
     "name": "stdout",
     "output_type": "stream",
     "text": [
      "NAME: R U SUGIRDHA\n",
      "CB.SC.I5DAS21062\n",
      "[[0.2450541  0.64599528 0.93371902 0.11845816 0.49074122]\n",
      " [0.09485631 0.2500539  0.36142691 0.04585316 0.18995766]\n",
      " [0.1347661  0.35526142 0.51349345 0.06514539 0.26988034]\n",
      " [0.10578564 0.27886505 0.40307043 0.05113635 0.21184454]\n",
      " [0.22092974 0.58240025 0.84179901 0.10679654 0.44243018]]\n"
     ]
    }
   ],
   "source": [
    "import numpy as np \n",
    "import math \n",
    "import sklearn.metrics \n",
    "def matrix_factorization(R, P, Q, K, steps=5000, alpha=0.0001 ): \n",
    " Q = Q.T \n",
    " for step in range(steps): \n",
    "     for i in range(len(R)): \n",
    "        for j in range(len(R[i])): \n",
    "           if R[i][j] > 0: \n",
    "                eij = R[i][j] - np.dot(P[i,:],Q[:,j]) \n",
    "                for k in range(K): \n",
    "                    P[i][k] = P[i][k] + alpha * 2 * eij * Q[k][j] \n",
    "                    Q[k][j] = Q[k][j] + alpha * 2 * eij * P[i][k] \n",
    "                    return P, Q.T \n",
    "R = [[0,5,4,2, 1],[1,0,0,5, 3], [1,4,4,1, 0],[0,0,2, 0, 2],[3,1,1,0, 0] ] \n",
    "R = np.array(R) \n",
    "N = len(R) \n",
    "# M: num of Movie \n",
    "M = len(R[0]) \n",
    "# Num of Features \n",
    "K = 1 \n",
    "P = np.random.rand(N,K) \n",
    "Q = np.random.rand(M,K) \n",
    "nP, nQ = matrix_factorization(R, P, Q, K) \n",
    "nR = np.dot(nP, nQ.T)\n",
    "print(\"NAME: R U SUGIRDHA\")\n",
    "print(\"CB.SC.I5DAS21062\")\n",
    "print(nR) "
   ]
  },
  {
   "cell_type": "code",
   "execution_count": null,
   "id": "13fd48fc-eaeb-474d-a23f-29115981b192",
   "metadata": {},
   "outputs": [],
   "source": []
  },
  {
   "cell_type": "code",
   "execution_count": null,
   "id": "926be7b2-06ff-4363-8a72-8a82ac0b0534",
   "metadata": {},
   "outputs": [],
   "source": []
  }
 ],
 "metadata": {
  "kernelspec": {
   "display_name": "Python 3 (ipykernel)",
   "language": "python",
   "name": "python3"
  },
  "language_info": {
   "codemirror_mode": {
    "name": "ipython",
    "version": 3
   },
   "file_extension": ".py",
   "mimetype": "text/x-python",
   "name": "python",
   "nbconvert_exporter": "python",
   "pygments_lexer": "ipython3",
   "version": "3.12.2"
  }
 },
 "nbformat": 4,
 "nbformat_minor": 5
}
